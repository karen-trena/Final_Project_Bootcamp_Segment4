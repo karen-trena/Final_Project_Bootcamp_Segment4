{
 "cells": [
  {
   "cell_type": "code",
   "execution_count": 1,
   "id": "5f93830d",
   "metadata": {},
   "outputs": [],
   "source": [
    "import numpy as np\n",
    "import pandas as pd\n",
    "import matplotlib.pyplot as plt\n",
    "import seaborn as sns\n",
    "from sklearn.preprocessing import StandardScaler\n",
    "from sklearn.cluster import KMeans\n",
    "from sklearn.decomposition import PCA\n",
    "from sklearn.metrics.pairwise import cosine_similarity"
   ]
  },
  {
   "cell_type": "code",
   "execution_count": 2,
   "id": "26b80e87",
   "metadata": {},
   "outputs": [
    {
     "name": "stdout",
     "output_type": "stream",
     "text": [
      "(8950, 18)\n"
     ]
    },
    {
     "data": {
      "text/html": [
       "<div>\n",
       "<style scoped>\n",
       "    .dataframe tbody tr th:only-of-type {\n",
       "        vertical-align: middle;\n",
       "    }\n",
       "\n",
       "    .dataframe tbody tr th {\n",
       "        vertical-align: top;\n",
       "    }\n",
       "\n",
       "    .dataframe thead th {\n",
       "        text-align: right;\n",
       "    }\n",
       "</style>\n",
       "<table border=\"1\" class=\"dataframe\">\n",
       "  <thead>\n",
       "    <tr style=\"text-align: right;\">\n",
       "      <th></th>\n",
       "      <th>CUST_ID</th>\n",
       "      <th>BALANCE</th>\n",
       "      <th>BALANCE_FREQUENCY</th>\n",
       "      <th>PURCHASES</th>\n",
       "      <th>ONEOFF_PURCHASES</th>\n",
       "      <th>INSTALLMENTS_PURCHASES</th>\n",
       "      <th>CASH_ADVANCE</th>\n",
       "      <th>PURCHASES_FREQUENCY</th>\n",
       "      <th>ONEOFF_PURCHASES_FREQUENCY</th>\n",
       "      <th>PURCHASES_INSTALLMENTS_FREQUENCY</th>\n",
       "      <th>CASH_ADVANCE_FREQUENCY</th>\n",
       "      <th>CASH_ADVANCE_TRX</th>\n",
       "      <th>PURCHASES_TRX</th>\n",
       "      <th>CREDIT_LIMIT</th>\n",
       "      <th>PAYMENTS</th>\n",
       "      <th>MINIMUM_PAYMENTS</th>\n",
       "      <th>PRC_FULL_PAYMENT</th>\n",
       "      <th>TENURE</th>\n",
       "    </tr>\n",
       "  </thead>\n",
       "  <tbody>\n",
       "    <tr>\n",
       "      <th>0</th>\n",
       "      <td>C10001</td>\n",
       "      <td>40.900749</td>\n",
       "      <td>0.818182</td>\n",
       "      <td>95.40</td>\n",
       "      <td>0.00</td>\n",
       "      <td>95.4</td>\n",
       "      <td>0.000000</td>\n",
       "      <td>0.166667</td>\n",
       "      <td>0.000000</td>\n",
       "      <td>0.083333</td>\n",
       "      <td>0.000000</td>\n",
       "      <td>0</td>\n",
       "      <td>2</td>\n",
       "      <td>1000.0</td>\n",
       "      <td>201.802084</td>\n",
       "      <td>139.509787</td>\n",
       "      <td>0.000000</td>\n",
       "      <td>12</td>\n",
       "    </tr>\n",
       "    <tr>\n",
       "      <th>1</th>\n",
       "      <td>C10002</td>\n",
       "      <td>3202.467416</td>\n",
       "      <td>0.909091</td>\n",
       "      <td>0.00</td>\n",
       "      <td>0.00</td>\n",
       "      <td>0.0</td>\n",
       "      <td>6442.945483</td>\n",
       "      <td>0.000000</td>\n",
       "      <td>0.000000</td>\n",
       "      <td>0.000000</td>\n",
       "      <td>0.250000</td>\n",
       "      <td>4</td>\n",
       "      <td>0</td>\n",
       "      <td>7000.0</td>\n",
       "      <td>4103.032597</td>\n",
       "      <td>1072.340217</td>\n",
       "      <td>0.222222</td>\n",
       "      <td>12</td>\n",
       "    </tr>\n",
       "    <tr>\n",
       "      <th>2</th>\n",
       "      <td>C10003</td>\n",
       "      <td>2495.148862</td>\n",
       "      <td>1.000000</td>\n",
       "      <td>773.17</td>\n",
       "      <td>773.17</td>\n",
       "      <td>0.0</td>\n",
       "      <td>0.000000</td>\n",
       "      <td>1.000000</td>\n",
       "      <td>1.000000</td>\n",
       "      <td>0.000000</td>\n",
       "      <td>0.000000</td>\n",
       "      <td>0</td>\n",
       "      <td>12</td>\n",
       "      <td>7500.0</td>\n",
       "      <td>622.066742</td>\n",
       "      <td>627.284787</td>\n",
       "      <td>0.000000</td>\n",
       "      <td>12</td>\n",
       "    </tr>\n",
       "    <tr>\n",
       "      <th>3</th>\n",
       "      <td>C10004</td>\n",
       "      <td>1666.670542</td>\n",
       "      <td>0.636364</td>\n",
       "      <td>1499.00</td>\n",
       "      <td>1499.00</td>\n",
       "      <td>0.0</td>\n",
       "      <td>205.788017</td>\n",
       "      <td>0.083333</td>\n",
       "      <td>0.083333</td>\n",
       "      <td>0.000000</td>\n",
       "      <td>0.083333</td>\n",
       "      <td>1</td>\n",
       "      <td>1</td>\n",
       "      <td>7500.0</td>\n",
       "      <td>0.000000</td>\n",
       "      <td>NaN</td>\n",
       "      <td>0.000000</td>\n",
       "      <td>12</td>\n",
       "    </tr>\n",
       "    <tr>\n",
       "      <th>4</th>\n",
       "      <td>C10005</td>\n",
       "      <td>817.714335</td>\n",
       "      <td>1.000000</td>\n",
       "      <td>16.00</td>\n",
       "      <td>16.00</td>\n",
       "      <td>0.0</td>\n",
       "      <td>0.000000</td>\n",
       "      <td>0.083333</td>\n",
       "      <td>0.083333</td>\n",
       "      <td>0.000000</td>\n",
       "      <td>0.000000</td>\n",
       "      <td>0</td>\n",
       "      <td>1</td>\n",
       "      <td>1200.0</td>\n",
       "      <td>678.334763</td>\n",
       "      <td>244.791237</td>\n",
       "      <td>0.000000</td>\n",
       "      <td>12</td>\n",
       "    </tr>\n",
       "  </tbody>\n",
       "</table>\n",
       "</div>"
      ],
      "text/plain": [
       "  CUST_ID      BALANCE  BALANCE_FREQUENCY  PURCHASES  ONEOFF_PURCHASES  \\\n",
       "0  C10001    40.900749           0.818182      95.40              0.00   \n",
       "1  C10002  3202.467416           0.909091       0.00              0.00   \n",
       "2  C10003  2495.148862           1.000000     773.17            773.17   \n",
       "3  C10004  1666.670542           0.636364    1499.00           1499.00   \n",
       "4  C10005   817.714335           1.000000      16.00             16.00   \n",
       "\n",
       "   INSTALLMENTS_PURCHASES  CASH_ADVANCE  PURCHASES_FREQUENCY  \\\n",
       "0                    95.4      0.000000             0.166667   \n",
       "1                     0.0   6442.945483             0.000000   \n",
       "2                     0.0      0.000000             1.000000   \n",
       "3                     0.0    205.788017             0.083333   \n",
       "4                     0.0      0.000000             0.083333   \n",
       "\n",
       "   ONEOFF_PURCHASES_FREQUENCY  PURCHASES_INSTALLMENTS_FREQUENCY  \\\n",
       "0                    0.000000                          0.083333   \n",
       "1                    0.000000                          0.000000   \n",
       "2                    1.000000                          0.000000   \n",
       "3                    0.083333                          0.000000   \n",
       "4                    0.083333                          0.000000   \n",
       "\n",
       "   CASH_ADVANCE_FREQUENCY  CASH_ADVANCE_TRX  PURCHASES_TRX  CREDIT_LIMIT  \\\n",
       "0                0.000000                 0              2        1000.0   \n",
       "1                0.250000                 4              0        7000.0   \n",
       "2                0.000000                 0             12        7500.0   \n",
       "3                0.083333                 1              1        7500.0   \n",
       "4                0.000000                 0              1        1200.0   \n",
       "\n",
       "      PAYMENTS  MINIMUM_PAYMENTS  PRC_FULL_PAYMENT  TENURE  \n",
       "0   201.802084        139.509787          0.000000      12  \n",
       "1  4103.032597       1072.340217          0.222222      12  \n",
       "2   622.066742        627.284787          0.000000      12  \n",
       "3     0.000000               NaN          0.000000      12  \n",
       "4   678.334763        244.791237          0.000000      12  "
      ]
     },
     "execution_count": 2,
     "metadata": {},
     "output_type": "execute_result"
    }
   ],
   "source": [
    "data= pd.read_csv(\"CCGENERAL.csv\")\n",
    "print(data.shape)\n",
    "data.head()"
   ]
  },
  {
   "cell_type": "code",
   "execution_count": 3,
   "id": "f23eac31",
   "metadata": {},
   "outputs": [
    {
     "data": {
      "text/html": [
       "<div>\n",
       "<style scoped>\n",
       "    .dataframe tbody tr th:only-of-type {\n",
       "        vertical-align: middle;\n",
       "    }\n",
       "\n",
       "    .dataframe tbody tr th {\n",
       "        vertical-align: top;\n",
       "    }\n",
       "\n",
       "    .dataframe thead th {\n",
       "        text-align: right;\n",
       "    }\n",
       "</style>\n",
       "<table border=\"1\" class=\"dataframe\">\n",
       "  <thead>\n",
       "    <tr style=\"text-align: right;\">\n",
       "      <th></th>\n",
       "      <th>BALANCE</th>\n",
       "      <th>BALANCE_FREQUENCY</th>\n",
       "      <th>PURCHASES</th>\n",
       "      <th>ONEOFF_PURCHASES</th>\n",
       "      <th>INSTALLMENTS_PURCHASES</th>\n",
       "      <th>CASH_ADVANCE</th>\n",
       "      <th>PURCHASES_FREQUENCY</th>\n",
       "      <th>ONEOFF_PURCHASES_FREQUENCY</th>\n",
       "      <th>PURCHASES_INSTALLMENTS_FREQUENCY</th>\n",
       "      <th>CASH_ADVANCE_FREQUENCY</th>\n",
       "      <th>CASH_ADVANCE_TRX</th>\n",
       "      <th>PURCHASES_TRX</th>\n",
       "      <th>CREDIT_LIMIT</th>\n",
       "      <th>PAYMENTS</th>\n",
       "      <th>MINIMUM_PAYMENTS</th>\n",
       "      <th>PRC_FULL_PAYMENT</th>\n",
       "      <th>TENURE</th>\n",
       "    </tr>\n",
       "  </thead>\n",
       "  <tbody>\n",
       "    <tr>\n",
       "      <th>count</th>\n",
       "      <td>8950.000000</td>\n",
       "      <td>8950.000000</td>\n",
       "      <td>8950.000000</td>\n",
       "      <td>8950.000000</td>\n",
       "      <td>8950.000000</td>\n",
       "      <td>8950.000000</td>\n",
       "      <td>8950.000000</td>\n",
       "      <td>8950.000000</td>\n",
       "      <td>8950.000000</td>\n",
       "      <td>8950.000000</td>\n",
       "      <td>8950.000000</td>\n",
       "      <td>8950.000000</td>\n",
       "      <td>8949.000000</td>\n",
       "      <td>8950.000000</td>\n",
       "      <td>8637.000000</td>\n",
       "      <td>8950.000000</td>\n",
       "      <td>8950.000000</td>\n",
       "    </tr>\n",
       "    <tr>\n",
       "      <th>mean</th>\n",
       "      <td>1564.474828</td>\n",
       "      <td>0.877271</td>\n",
       "      <td>1003.204834</td>\n",
       "      <td>592.437371</td>\n",
       "      <td>411.067645</td>\n",
       "      <td>978.871112</td>\n",
       "      <td>0.490351</td>\n",
       "      <td>0.202458</td>\n",
       "      <td>0.364437</td>\n",
       "      <td>0.135144</td>\n",
       "      <td>3.248827</td>\n",
       "      <td>14.709832</td>\n",
       "      <td>4494.449450</td>\n",
       "      <td>1733.143852</td>\n",
       "      <td>864.206542</td>\n",
       "      <td>0.153715</td>\n",
       "      <td>11.517318</td>\n",
       "    </tr>\n",
       "    <tr>\n",
       "      <th>std</th>\n",
       "      <td>2081.531879</td>\n",
       "      <td>0.236904</td>\n",
       "      <td>2136.634782</td>\n",
       "      <td>1659.887917</td>\n",
       "      <td>904.338115</td>\n",
       "      <td>2097.163877</td>\n",
       "      <td>0.401371</td>\n",
       "      <td>0.298336</td>\n",
       "      <td>0.397448</td>\n",
       "      <td>0.200121</td>\n",
       "      <td>6.824647</td>\n",
       "      <td>24.857649</td>\n",
       "      <td>3638.815725</td>\n",
       "      <td>2895.063757</td>\n",
       "      <td>2372.446607</td>\n",
       "      <td>0.292499</td>\n",
       "      <td>1.338331</td>\n",
       "    </tr>\n",
       "    <tr>\n",
       "      <th>min</th>\n",
       "      <td>0.000000</td>\n",
       "      <td>0.000000</td>\n",
       "      <td>0.000000</td>\n",
       "      <td>0.000000</td>\n",
       "      <td>0.000000</td>\n",
       "      <td>0.000000</td>\n",
       "      <td>0.000000</td>\n",
       "      <td>0.000000</td>\n",
       "      <td>0.000000</td>\n",
       "      <td>0.000000</td>\n",
       "      <td>0.000000</td>\n",
       "      <td>0.000000</td>\n",
       "      <td>50.000000</td>\n",
       "      <td>0.000000</td>\n",
       "      <td>0.019163</td>\n",
       "      <td>0.000000</td>\n",
       "      <td>6.000000</td>\n",
       "    </tr>\n",
       "    <tr>\n",
       "      <th>25%</th>\n",
       "      <td>128.281915</td>\n",
       "      <td>0.888889</td>\n",
       "      <td>39.635000</td>\n",
       "      <td>0.000000</td>\n",
       "      <td>0.000000</td>\n",
       "      <td>0.000000</td>\n",
       "      <td>0.083333</td>\n",
       "      <td>0.000000</td>\n",
       "      <td>0.000000</td>\n",
       "      <td>0.000000</td>\n",
       "      <td>0.000000</td>\n",
       "      <td>1.000000</td>\n",
       "      <td>1600.000000</td>\n",
       "      <td>383.276166</td>\n",
       "      <td>169.123707</td>\n",
       "      <td>0.000000</td>\n",
       "      <td>12.000000</td>\n",
       "    </tr>\n",
       "    <tr>\n",
       "      <th>50%</th>\n",
       "      <td>873.385231</td>\n",
       "      <td>1.000000</td>\n",
       "      <td>361.280000</td>\n",
       "      <td>38.000000</td>\n",
       "      <td>89.000000</td>\n",
       "      <td>0.000000</td>\n",
       "      <td>0.500000</td>\n",
       "      <td>0.083333</td>\n",
       "      <td>0.166667</td>\n",
       "      <td>0.000000</td>\n",
       "      <td>0.000000</td>\n",
       "      <td>7.000000</td>\n",
       "      <td>3000.000000</td>\n",
       "      <td>856.901546</td>\n",
       "      <td>312.343947</td>\n",
       "      <td>0.000000</td>\n",
       "      <td>12.000000</td>\n",
       "    </tr>\n",
       "    <tr>\n",
       "      <th>75%</th>\n",
       "      <td>2054.140036</td>\n",
       "      <td>1.000000</td>\n",
       "      <td>1110.130000</td>\n",
       "      <td>577.405000</td>\n",
       "      <td>468.637500</td>\n",
       "      <td>1113.821139</td>\n",
       "      <td>0.916667</td>\n",
       "      <td>0.300000</td>\n",
       "      <td>0.750000</td>\n",
       "      <td>0.222222</td>\n",
       "      <td>4.000000</td>\n",
       "      <td>17.000000</td>\n",
       "      <td>6500.000000</td>\n",
       "      <td>1901.134317</td>\n",
       "      <td>825.485459</td>\n",
       "      <td>0.142857</td>\n",
       "      <td>12.000000</td>\n",
       "    </tr>\n",
       "    <tr>\n",
       "      <th>max</th>\n",
       "      <td>19043.138560</td>\n",
       "      <td>1.000000</td>\n",
       "      <td>49039.570000</td>\n",
       "      <td>40761.250000</td>\n",
       "      <td>22500.000000</td>\n",
       "      <td>47137.211760</td>\n",
       "      <td>1.000000</td>\n",
       "      <td>1.000000</td>\n",
       "      <td>1.000000</td>\n",
       "      <td>1.500000</td>\n",
       "      <td>123.000000</td>\n",
       "      <td>358.000000</td>\n",
       "      <td>30000.000000</td>\n",
       "      <td>50721.483360</td>\n",
       "      <td>76406.207520</td>\n",
       "      <td>1.000000</td>\n",
       "      <td>12.000000</td>\n",
       "    </tr>\n",
       "  </tbody>\n",
       "</table>\n",
       "</div>"
      ],
      "text/plain": [
       "            BALANCE  BALANCE_FREQUENCY     PURCHASES  ONEOFF_PURCHASES  \\\n",
       "count   8950.000000        8950.000000   8950.000000       8950.000000   \n",
       "mean    1564.474828           0.877271   1003.204834        592.437371   \n",
       "std     2081.531879           0.236904   2136.634782       1659.887917   \n",
       "min        0.000000           0.000000      0.000000          0.000000   \n",
       "25%      128.281915           0.888889     39.635000          0.000000   \n",
       "50%      873.385231           1.000000    361.280000         38.000000   \n",
       "75%     2054.140036           1.000000   1110.130000        577.405000   \n",
       "max    19043.138560           1.000000  49039.570000      40761.250000   \n",
       "\n",
       "       INSTALLMENTS_PURCHASES  CASH_ADVANCE  PURCHASES_FREQUENCY  \\\n",
       "count             8950.000000   8950.000000          8950.000000   \n",
       "mean               411.067645    978.871112             0.490351   \n",
       "std                904.338115   2097.163877             0.401371   \n",
       "min                  0.000000      0.000000             0.000000   \n",
       "25%                  0.000000      0.000000             0.083333   \n",
       "50%                 89.000000      0.000000             0.500000   \n",
       "75%                468.637500   1113.821139             0.916667   \n",
       "max              22500.000000  47137.211760             1.000000   \n",
       "\n",
       "       ONEOFF_PURCHASES_FREQUENCY  PURCHASES_INSTALLMENTS_FREQUENCY  \\\n",
       "count                 8950.000000                       8950.000000   \n",
       "mean                     0.202458                          0.364437   \n",
       "std                      0.298336                          0.397448   \n",
       "min                      0.000000                          0.000000   \n",
       "25%                      0.000000                          0.000000   \n",
       "50%                      0.083333                          0.166667   \n",
       "75%                      0.300000                          0.750000   \n",
       "max                      1.000000                          1.000000   \n",
       "\n",
       "       CASH_ADVANCE_FREQUENCY  CASH_ADVANCE_TRX  PURCHASES_TRX  CREDIT_LIMIT  \\\n",
       "count             8950.000000       8950.000000    8950.000000   8949.000000   \n",
       "mean                 0.135144          3.248827      14.709832   4494.449450   \n",
       "std                  0.200121          6.824647      24.857649   3638.815725   \n",
       "min                  0.000000          0.000000       0.000000     50.000000   \n",
       "25%                  0.000000          0.000000       1.000000   1600.000000   \n",
       "50%                  0.000000          0.000000       7.000000   3000.000000   \n",
       "75%                  0.222222          4.000000      17.000000   6500.000000   \n",
       "max                  1.500000        123.000000     358.000000  30000.000000   \n",
       "\n",
       "           PAYMENTS  MINIMUM_PAYMENTS  PRC_FULL_PAYMENT       TENURE  \n",
       "count   8950.000000       8637.000000       8950.000000  8950.000000  \n",
       "mean    1733.143852        864.206542          0.153715    11.517318  \n",
       "std     2895.063757       2372.446607          0.292499     1.338331  \n",
       "min        0.000000          0.019163          0.000000     6.000000  \n",
       "25%      383.276166        169.123707          0.000000    12.000000  \n",
       "50%      856.901546        312.343947          0.000000    12.000000  \n",
       "75%     1901.134317        825.485459          0.142857    12.000000  \n",
       "max    50721.483360      76406.207520          1.000000    12.000000  "
      ]
     },
     "execution_count": 3,
     "metadata": {},
     "output_type": "execute_result"
    }
   ],
   "source": [
    "data.describe()"
   ]
  },
  {
   "cell_type": "code",
   "execution_count": 4,
   "id": "75f641b8",
   "metadata": {},
   "outputs": [
    {
     "data": {
      "text/plain": [
       "MINIMUM_PAYMENTS    313\n",
       "CREDIT_LIMIT          1\n",
       "CUST_ID               0\n",
       "BALANCE               0\n",
       "PRC_FULL_PAYMENT      0\n",
       "dtype: int64"
      ]
     },
     "execution_count": 4,
     "metadata": {},
     "output_type": "execute_result"
    }
   ],
   "source": [
    "data.isnull().sum().sort_values(ascending=False).head()"
   ]
  },
  {
   "cell_type": "code",
   "execution_count": 5,
   "id": "57c92ef9",
   "metadata": {},
   "outputs": [],
   "source": [
    "data.loc[(data['MINIMUM_PAYMENTS'].isnull()==True),'MINIMUM_PAYMENTS']=data['MINIMUM_PAYMENTS'].mean()\n",
    "data.loc[(data['CREDIT_LIMIT'].isnull()==True),'CREDIT_LIMIT']=data['CREDIT_LIMIT'].mean()"
   ]
  },
  {
   "cell_type": "code",
   "execution_count": 6,
   "id": "0fdfb803",
   "metadata": {},
   "outputs": [
    {
     "data": {
      "text/plain": [
       "CUST_ID             0\n",
       "BALANCE             0\n",
       "PRC_FULL_PAYMENT    0\n",
       "MINIMUM_PAYMENTS    0\n",
       "PAYMENTS            0\n",
       "dtype: int64"
      ]
     },
     "execution_count": 6,
     "metadata": {},
     "output_type": "execute_result"
    }
   ],
   "source": [
    "data.isnull().sum().sort_values(ascending=False).head()"
   ]
  },
  {
   "cell_type": "code",
   "execution_count": 7,
   "id": "e6992040",
   "metadata": {},
   "outputs": [],
   "source": [
    "columns=['BALANCE']\n",
    "\n",
    "for c in columns:\n",
    "    \n",
    "    Range=c+'_RANGE'\n",
    "    data[Range]=0        \n",
    "    data.loc[((data[c]>0)&(data[c]<=65)),Range]=1\n",
    "    data.loc[((data[c]>65)&(data[c]<=130)),Range]=2\n",
    "    data.loc[((data[c]>130)&(data[c]<=505)),Range]=3\n",
    "    data.loc[((data[c]>505)&(data[c]<=875)),Range]=4\n",
    "    data.loc[((data[c]>875)&(data[c]<=1465)),Range]=5\n",
    "    data.loc[((data[c]>1465)&(data[c]<=2055)),Range]=6\n",
    "    data.loc[((data[c]>2055)),Range]=7"
   ]
  },
  {
   "cell_type": "code",
   "execution_count": 8,
   "id": "1150a0cd",
   "metadata": {},
   "outputs": [],
   "source": [
    "columns=['BALANCE']\n",
    "\n",
    "for c in columns:\n",
    "    \n",
    "    Range=c+'_RANGE'\n",
    "    data[Range]=0        \n",
    "    data.loc[((data[c]>0)&(data[c]<=0.4)),Range]=1\n",
    "    data.loc[((data[c]>0.4)&(data[c]<=0.9)),Range]=2\n",
    "\n",
    "    data.loc[((data[c]>0.9)),Range]=3"
   ]
  },
  {
   "cell_type": "code",
   "execution_count": 9,
   "id": "678fe159",
   "metadata": {},
   "outputs": [],
   "source": [
    "columns=['PURCHASES']\n",
    "\n",
    "for c in columns:\n",
    "    \n",
    "    Range=c+'_RANGE'\n",
    "    data[Range]=0        \n",
    "    data.loc[((data[c]>0)&(data[c]<=20)),Range]=1\n",
    "    data.loc[((data[c]>20)&(data[c]<=40)),Range]=2\n",
    "    data.loc[((data[c]>40)&(data[c]<=205)),Range]=3\n",
    "    data.loc[((data[c]>205)&(data[c]<=365)),Range]=4\n",
    "    data.loc[((data[c]>365)&(data[c]<=740)),Range]=5\n",
    "    data.loc[((data[c]>740)&(data[c]<=1115)),Range]=6\n",
    "    data.loc[((data[c]>1115)),Range]=7"
   ]
  },
  {
   "cell_type": "code",
   "execution_count": 10,
   "id": "3f4bf175",
   "metadata": {},
   "outputs": [],
   "source": [
    "columns=['ONEOFF_PURCHASES']\n",
    "\n",
    "for c in columns:\n",
    "    \n",
    "    Range=c+'_RANGE'\n",
    "    data[Range]=0        \n",
    "    data.loc[((data[c]>0)&(data[c]<=20)),Range]=1\n",
    "    data.loc[((data[c]>20)&(data[c]<=40)),Range]=2\n",
    "    data.loc[((data[c]>40)&(data[c]<=310)),Range]=3\n",
    "    data.loc[((data[c]>310)&(data[c]<=580)),Range]=4\n",
    "\n",
    "    data.loc[((data[c]>580)),Range]=5"
   ]
  },
  {
   "cell_type": "code",
   "execution_count": 11,
   "id": "79dd4689",
   "metadata": {},
   "outputs": [],
   "source": [
    "columns=['INSTALLMENTS_PURCHASES']\n",
    "\n",
    "for c in columns:\n",
    "    \n",
    "    Range=c+'_RANGE'\n",
    "    data[Range]=0        \n",
    "    data.loc[((data[c]>0)&(data[c]<=45)),Range]=1\n",
    "    data.loc[((data[c]>45)&(data[c]<=90)),Range]=2\n",
    "    data.loc[((data[c]>90)&(data[c]<=280)),Range]=3\n",
    "    data.loc[((data[c]>280)&(data[c]<=470)),Range]=4\n",
    "\n",
    "    data.loc[((data[c]>470)),Range]=5"
   ]
  },
  {
   "cell_type": "code",
   "execution_count": 12,
   "id": "2f92e40d",
   "metadata": {},
   "outputs": [],
   "source": [
    "columns=['CASH_ADVANCE']\n",
    "\n",
    "for c in columns:\n",
    "    \n",
    "    Range=c+'_RANGE'\n",
    "    data[Range]=0        \n",
    "    data.loc[((data[c]>0)&(data[c]<=560)),Range]=1\n",
    "    data.loc[((data[c]>560)&(data[c]<=1115)),Range]=2\n",
    "\n",
    "    data.loc[((data[c]>1115)),Range]=3"
   ]
  },
  {
   "cell_type": "code",
   "execution_count": 13,
   "id": "99f679b7",
   "metadata": {},
   "outputs": [],
   "source": [
    "columns=['PURCHASES_FREQUENCY']\n",
    "\n",
    "for c in columns:\n",
    "    \n",
    "    Range=c+'_RANGE'\n",
    "    data[Range]=0        \n",
    "    data.loc[((data[c]>0)&(data[c]<=0.1)),Range]=1\n",
    "    data.loc[((data[c]>0.1)&(data[c]<=0.3)),Range]=2\n",
    "    data.loc[((data[c]>0.3)&(data[c]<=0.5)),Range]=3\n",
    "    data.loc[((data[c]>0.5)&(data[c]<=0.7)),Range]=4\n",
    "    data.loc[((data[c]>0.7)&(data[c]<=0.9)),Range]=5\n",
    "    data.loc[((data[c]>0.9)),Range]=6"
   ]
  },
  {
   "cell_type": "code",
   "execution_count": 14,
   "id": "64f3826e",
   "metadata": {},
   "outputs": [],
   "source": [
    "columns=['ONEOFF_PURCHASES_FREQUENCY']\n",
    "\n",
    "for c in columns:\n",
    "    \n",
    "    Range=c+'_RANGE'\n",
    "    data[Range]=0        \n",
    "    data.loc[((data[c]>0)&(data[c]<=0.1)),Range]=1\n",
    "    data.loc[((data[c]>0.1)&(data[c]<=0.2)),Range]=2\n",
    "    data.loc[((data[c]>0.2)&(data[c]<=0.3)),Range]=3\n",
    "\n",
    "    data.loc[((data[c]>0.3)),Range]=4"
   ]
  },
  {
   "cell_type": "code",
   "execution_count": 15,
   "id": "91b4db5d",
   "metadata": {},
   "outputs": [],
   "source": [
    "columns=['PURCHASES_INSTALLMENTS_FREQUENCY']\n",
    "\n",
    "for c in columns:\n",
    "    \n",
    "    Range=c+'_RANGE'\n",
    "    data[Range]=0        \n",
    "    data.loc[((data[c]>0)&(data[c]<=0.1)),Range]=1\n",
    "    data.loc[((data[c]>0.1)&(data[c]<=0.2)),Range]=2\n",
    "    data.loc[((data[c]>0.2)&(data[c]<=0.5)),Range]=3\n",
    "    data.loc[((data[c]>0.5)&(data[c]<=0.8)),Range]=4\n",
    "\n",
    "    data.loc[((data[c]>0.8)),Range]=5"
   ]
  },
  {
   "cell_type": "code",
   "execution_count": 16,
   "id": "3e084604",
   "metadata": {},
   "outputs": [],
   "source": [
    "columns=['CASH_ADVANCE_FREQUENCY']\n",
    "\n",
    "for c in columns:\n",
    "    \n",
    "    Range=c+'_RANGE'\n",
    "    data[Range]=0        \n",
    "    data.loc[((data[c]>0)&(data[c]<=0.1)),Range]=1\n",
    "    data.loc[((data[c]>0.1)&(data[c]<=0.2)),Range]=2\n",
    "\n",
    "\n",
    "    data.loc[((data[c]>0.2)),Range]=3"
   ]
  },
  {
   "cell_type": "code",
   "execution_count": 17,
   "id": "ada69992",
   "metadata": {},
   "outputs": [],
   "source": [
    "columns=['CASH_ADVANCE_TRX']\n",
    "\n",
    "for c in columns:\n",
    "    \n",
    "    Range=c+'_RANGE'\n",
    "    data[Range]=0        \n",
    "    data.loc[((data[c]>0)&(data[c]<=2)),Range]=1\n",
    "    data.loc[((data[c]>2)&(data[c]<=4)),Range]=2\n",
    "\n",
    "    data.loc[((data[c]>4)),Range]=3"
   ]
  },
  {
   "cell_type": "code",
   "execution_count": 18,
   "id": "7ad14097",
   "metadata": {},
   "outputs": [],
   "source": [
    "columns=['PURCHASES_TRX']\n",
    "\n",
    "for c in columns:\n",
    "    \n",
    "    Range=c+'_RANGE'\n",
    "    data[Range]=0        \n",
    "    data.loc[((data[c]>0)&(data[c]<=0.5)),Range]=1\n",
    "    data.loc[((data[c]>0.5)&(data[c]<=1)),Range]=2\n",
    "    data.loc[((data[c]>1)&(data[c]<=4)),Range]=3\n",
    "    data.loc[((data[c]>4)&(data[c]<=7)),Range]=4\n",
    "    data.loc[((data[c]>7)&(data[c]<=12)),Range]=5\n",
    "    data.loc[((data[c]>12)&(data[c]<=17)),Range]=6\n",
    "    data.loc[((data[c]>17)),Range]=7"
   ]
  },
  {
   "cell_type": "code",
   "execution_count": 19,
   "id": "efe991ce",
   "metadata": {},
   "outputs": [],
   "source": [
    "columns=['CREDIT_LIMIT']\n",
    "\n",
    "for c in columns:\n",
    "    \n",
    "    Range=c+'_RANGE'\n",
    "    data[Range]=0        \n",
    "    data.loc[((data[c]>50)&(data[c]<=830)),Range]=1\n",
    "    data.loc[((data[c]>830)&(data[c]<=1600)),Range]=2\n",
    "    data.loc[((data[c]>1600)&(data[c]<=2300)),Range]=3\n",
    "    data.loc[((data[c]>2300)&(data[c]<=3000)),Range]=4\n",
    "    data.loc[((data[c]>3000)&(data[c]<=4750)),Range]=5\n",
    "    data.loc[((data[c]>4750)&(data[c]<=6500)),Range]=6\n",
    "    data.loc[((data[c]>6500)),Range]=7"
   ]
  },
  {
   "cell_type": "code",
   "execution_count": 20,
   "id": "9923d0f9",
   "metadata": {},
   "outputs": [],
   "source": [
    "columns=['PAYMENTS']\n",
    "\n",
    "for c in columns:\n",
    "    \n",
    "    Range=c+'_RANGE'\n",
    "    data[Range]=0        \n",
    "    data.loc[((data[c]>0)&(data[c]<=195)),Range]=1\n",
    "    data.loc[((data[c]>195)&(data[c]<=385)),Range]=2\n",
    "    data.loc[((data[c]>385)&(data[c]<=625)),Range]=3\n",
    "    data.loc[((data[c]>625)&(data[c]<=860)),Range]=4\n",
    "    data.loc[((data[c]>860)&(data[c]<=1380)),Range]=5\n",
    "    data.loc[((data[c]>1380)&(data[c]<=1905)),Range]=6\n",
    "    data.loc[((data[c]>1905)),Range]=7"
   ]
  },
  {
   "cell_type": "code",
   "execution_count": 21,
   "id": "ca468fdf",
   "metadata": {},
   "outputs": [],
   "source": [
    "columns=['MINIMUM_PAYMENTS']\n",
    "\n",
    "for c in columns:\n",
    "    \n",
    "    Range=c+'_RANGE'\n",
    "    data[Range]=0        \n",
    "    data.loc[((data[c]>0)&(data[c]<=85)),Range]=1\n",
    "    data.loc[((data[c]>85)&(data[c]<=170)),Range]=2\n",
    "    data.loc[((data[c]>170)&(data[c]<=245)),Range]=3\n",
    "    data.loc[((data[c]>245)&(data[c]<=315)),Range]=4\n",
    "    data.loc[((data[c]>315)&(data[c]<=570)),Range]=5\n",
    "    data.loc[((data[c]>570)&(data[c]<=830)),Range]=6\n",
    "    data.loc[((data[c]>830)),Range]=7"
   ]
  },
  {
   "cell_type": "code",
   "execution_count": 22,
   "id": "9d361078",
   "metadata": {},
   "outputs": [],
   "source": [
    "columns=['PRC_FULL_PAYMENT']\n",
    "\n",
    "for c in columns:\n",
    "    \n",
    "    Range=c+'_RANGE'\n",
    "    data[Range]=0        \n",
    "    data.loc[((data[c]>0)&(data[c]<=.1)),Range]=1\n",
    "    data.loc[((data[c]>.1)&(data[c]<=.15)),Range]=2\n",
    "\n",
    "    data.loc[((data[c]>.15)),Range]=7"
   ]
  },
  {
   "cell_type": "code",
   "execution_count": 23,
   "id": "ab938ac6",
   "metadata": {},
   "outputs": [],
   "source": [
    "columns=['BALANCE']\n",
    "\n",
    "for c in columns:\n",
    "    \n",
    "    Range=c+'_RANGE'\n",
    "    data[Range]=0        \n",
    "    data.loc[((data[c]>6)&(data[c]<=9)),Range]=1\n",
    "\n",
    "    data.loc[((data[c]>9)),Range]=2"
   ]
  },
  {
   "cell_type": "code",
   "execution_count": 24,
   "id": "07418064",
   "metadata": {},
   "outputs": [],
   "source": [
    "data.drop(['CUST_ID', 'BALANCE', 'BALANCE_FREQUENCY', 'PURCHASES',\n",
    "       'ONEOFF_PURCHASES', 'INSTALLMENTS_PURCHASES', 'CASH_ADVANCE',\n",
    "       'PURCHASES_FREQUENCY',  'ONEOFF_PURCHASES_FREQUENCY',\n",
    "       'PURCHASES_INSTALLMENTS_FREQUENCY', 'CASH_ADVANCE_FREQUENCY',\n",
    "       'CASH_ADVANCE_TRX', 'PURCHASES_TRX', 'CREDIT_LIMIT', 'PAYMENTS',\n",
    "       'MINIMUM_PAYMENTS', 'PRC_FULL_PAYMENT' ], axis=1, inplace=True)\n",
    "\n",
    "X= np.asarray(data)"
   ]
  },
  {
   "cell_type": "code",
   "execution_count": 25,
   "id": "30e2d75b",
   "metadata": {},
   "outputs": [
    {
     "data": {
      "text/plain": [
       "(8950, 16)"
      ]
     },
     "execution_count": 25,
     "metadata": {},
     "output_type": "execute_result"
    }
   ],
   "source": [
    "scale = StandardScaler()\n",
    "X = scale.fit_transform(X)\n",
    "X.shape"
   ]
  },
  {
   "cell_type": "code",
   "execution_count": 26,
   "id": "57793711",
   "metadata": {},
   "outputs": [],
   "source": [
    "n_clusters=15\n",
    "cost=[]\n",
    "for i in range(1,n_clusters):\n",
    "    kmean= KMeans(i)\n",
    "    kmean.fit(X)\n",
    "    cost.append(kmean.inertia_)  "
   ]
  },
  {
   "cell_type": "code",
   "execution_count": 27,
   "id": "741fd98b",
   "metadata": {},
   "outputs": [
    {
     "data": {
      "text/plain": [
       "[<matplotlib.lines.Line2D at 0x129a81a1808>]"
      ]
     },
     "execution_count": 27,
     "metadata": {},
     "output_type": "execute_result"
    },
    {
     "data": {
      "image/png": "[encoded data removed]",
      "text/plain": [
       "<Figure size 432x288 with 1 Axes>"
      ]
     },
     "metadata": {
      "needs_background": "light"
     },
     "output_type": "display_data"
    }
   ],
   "source": [
    "plt.plot(cost, 'bx-',color='purple')"
   ]
  },
  {
   "cell_type": "code",
   "execution_count": 28,
   "id": "f33b1d4a",
   "metadata": {},
   "outputs": [],
   "source": [
    "kmean= KMeans(4)\n",
    "kmean.fit(X)\n",
    "labels=kmean.labels_"
   ]
  },
  {
   "cell_type": "code",
   "execution_count": 29,
   "id": "5f58fa86",
   "metadata": {},
   "outputs": [
    {
     "data": {
      "text/html": [
       "<div>\n",
       "<style scoped>\n",
       "    .dataframe tbody tr th:only-of-type {\n",
       "        vertical-align: middle;\n",
       "    }\n",
       "\n",
       "    .dataframe tbody tr th {\n",
       "        vertical-align: top;\n",
       "    }\n",
       "\n",
       "    .dataframe thead th {\n",
       "        text-align: right;\n",
       "    }\n",
       "</style>\n",
       "<table border=\"1\" class=\"dataframe\">\n",
       "  <thead>\n",
       "    <tr style=\"text-align: right;\">\n",
       "      <th></th>\n",
       "      <th>TENURE</th>\n",
       "      <th>BALANCE_RANGE</th>\n",
       "      <th>PURCHASES_RANGE</th>\n",
       "      <th>ONEOFF_PURCHASES_RANGE</th>\n",
       "      <th>INSTALLMENTS_PURCHASES_RANGE</th>\n",
       "      <th>CASH_ADVANCE_RANGE</th>\n",
       "      <th>PURCHASES_FREQUENCY_RANGE</th>\n",
       "      <th>ONEOFF_PURCHASES_FREQUENCY_RANGE</th>\n",
       "      <th>PURCHASES_INSTALLMENTS_FREQUENCY_RANGE</th>\n",
       "      <th>CASH_ADVANCE_FREQUENCY_RANGE</th>\n",
       "      <th>CASH_ADVANCE_TRX_RANGE</th>\n",
       "      <th>PURCHASES_TRX_RANGE</th>\n",
       "      <th>CREDIT_LIMIT_RANGE</th>\n",
       "      <th>PAYMENTS_RANGE</th>\n",
       "      <th>MINIMUM_PAYMENTS_RANGE</th>\n",
       "      <th>PRC_FULL_PAYMENT_RANGE</th>\n",
       "      <th>cluster</th>\n",
       "    </tr>\n",
       "  </thead>\n",
       "  <tbody>\n",
       "    <tr>\n",
       "      <th>0</th>\n",
       "      <td>12</td>\n",
       "      <td>2</td>\n",
       "      <td>3</td>\n",
       "      <td>0</td>\n",
       "      <td>3</td>\n",
       "      <td>0</td>\n",
       "      <td>2</td>\n",
       "      <td>0</td>\n",
       "      <td>1</td>\n",
       "      <td>0</td>\n",
       "      <td>0</td>\n",
       "      <td>3</td>\n",
       "      <td>2</td>\n",
       "      <td>2</td>\n",
       "      <td>2</td>\n",
       "      <td>0</td>\n",
       "      <td>0</td>\n",
       "    </tr>\n",
       "    <tr>\n",
       "      <th>1</th>\n",
       "      <td>12</td>\n",
       "      <td>2</td>\n",
       "      <td>0</td>\n",
       "      <td>0</td>\n",
       "      <td>0</td>\n",
       "      <td>3</td>\n",
       "      <td>0</td>\n",
       "      <td>0</td>\n",
       "      <td>0</td>\n",
       "      <td>3</td>\n",
       "      <td>2</td>\n",
       "      <td>0</td>\n",
       "      <td>7</td>\n",
       "      <td>7</td>\n",
       "      <td>7</td>\n",
       "      <td>7</td>\n",
       "      <td>3</td>\n",
       "    </tr>\n",
       "    <tr>\n",
       "      <th>2</th>\n",
       "      <td>12</td>\n",
       "      <td>2</td>\n",
       "      <td>6</td>\n",
       "      <td>5</td>\n",
       "      <td>0</td>\n",
       "      <td>0</td>\n",
       "      <td>6</td>\n",
       "      <td>4</td>\n",
       "      <td>0</td>\n",
       "      <td>0</td>\n",
       "      <td>0</td>\n",
       "      <td>5</td>\n",
       "      <td>7</td>\n",
       "      <td>3</td>\n",
       "      <td>6</td>\n",
       "      <td>0</td>\n",
       "      <td>2</td>\n",
       "    </tr>\n",
       "    <tr>\n",
       "      <th>3</th>\n",
       "      <td>12</td>\n",
       "      <td>2</td>\n",
       "      <td>7</td>\n",
       "      <td>5</td>\n",
       "      <td>0</td>\n",
       "      <td>1</td>\n",
       "      <td>1</td>\n",
       "      <td>1</td>\n",
       "      <td>0</td>\n",
       "      <td>1</td>\n",
       "      <td>1</td>\n",
       "      <td>2</td>\n",
       "      <td>7</td>\n",
       "      <td>0</td>\n",
       "      <td>7</td>\n",
       "      <td>0</td>\n",
       "      <td>3</td>\n",
       "    </tr>\n",
       "    <tr>\n",
       "      <th>4</th>\n",
       "      <td>12</td>\n",
       "      <td>2</td>\n",
       "      <td>1</td>\n",
       "      <td>1</td>\n",
       "      <td>0</td>\n",
       "      <td>0</td>\n",
       "      <td>1</td>\n",
       "      <td>1</td>\n",
       "      <td>0</td>\n",
       "      <td>0</td>\n",
       "      <td>0</td>\n",
       "      <td>2</td>\n",
       "      <td>2</td>\n",
       "      <td>4</td>\n",
       "      <td>3</td>\n",
       "      <td>0</td>\n",
       "      <td>0</td>\n",
       "    </tr>\n",
       "  </tbody>\n",
       "</table>\n",
       "</div>"
      ],
      "text/plain": [
       "   TENURE  BALANCE_RANGE  PURCHASES_RANGE  ONEOFF_PURCHASES_RANGE  \\\n",
       "0      12              2                3                       0   \n",
       "1      12              2                0                       0   \n",
       "2      12              2                6                       5   \n",
       "3      12              2                7                       5   \n",
       "4      12              2                1                       1   \n",
       "\n",
       "   INSTALLMENTS_PURCHASES_RANGE  CASH_ADVANCE_RANGE  \\\n",
       "0                             3                   0   \n",
       "1                             0                   3   \n",
       "2                             0                   0   \n",
       "3                             0                   1   \n",
       "4                             0                   0   \n",
       "\n",
       "   PURCHASES_FREQUENCY_RANGE  ONEOFF_PURCHASES_FREQUENCY_RANGE  \\\n",
       "0                          2                                 0   \n",
       "1                          0                                 0   \n",
       "2                          6                                 4   \n",
       "3                          1                                 1   \n",
       "4                          1                                 1   \n",
       "\n",
       "   PURCHASES_INSTALLMENTS_FREQUENCY_RANGE  CASH_ADVANCE_FREQUENCY_RANGE  \\\n",
       "0                                       1                             0   \n",
       "1                                       0                             3   \n",
       "2                                       0                             0   \n",
       "3                                       0                             1   \n",
       "4                                       0                             0   \n",
       "\n",
       "   CASH_ADVANCE_TRX_RANGE  PURCHASES_TRX_RANGE  CREDIT_LIMIT_RANGE  \\\n",
       "0                       0                    3                   2   \n",
       "1                       2                    0                   7   \n",
       "2                       0                    5                   7   \n",
       "3                       1                    2                   7   \n",
       "4                       0                    2                   2   \n",
       "\n",
       "   PAYMENTS_RANGE  MINIMUM_PAYMENTS_RANGE  PRC_FULL_PAYMENT_RANGE  cluster  \n",
       "0               2                       2                       0        0  \n",
       "1               7                       7                       7        3  \n",
       "2               3                       6                       0        2  \n",
       "3               0                       7                       0        3  \n",
       "4               4                       3                       0        0  "
      ]
     },
     "execution_count": 29,
     "metadata": {},
     "output_type": "execute_result"
    }
   ],
   "source": [
    "clusters=pd.concat([data, pd.DataFrame({'cluster':labels})], axis=1)\n",
    "clusters.head()"
   ]
  },
  {
   "cell_type": "code",
   "execution_count": 30,
   "id": "72f5a7ed",
   "metadata": {},
   "outputs": [],
   "source": [
    "data1= pd.read_csv(\"CCGENERAL.csv\")"
   ]
  },
  {
   "cell_type": "code",
   "execution_count": 31,
   "id": "28357569",
   "metadata": {},
   "outputs": [
    {
     "data": {
      "text/html": [
       "<div>\n",
       "<style scoped>\n",
       "    .dataframe tbody tr th:only-of-type {\n",
       "        vertical-align: middle;\n",
       "    }\n",
       "\n",
       "    .dataframe tbody tr th {\n",
       "        vertical-align: top;\n",
       "    }\n",
       "\n",
       "    .dataframe thead th {\n",
       "        text-align: right;\n",
       "    }\n",
       "</style>\n",
       "<table border=\"1\" class=\"dataframe\">\n",
       "  <thead>\n",
       "    <tr style=\"text-align: right;\">\n",
       "      <th></th>\n",
       "      <th>TENURE</th>\n",
       "      <th>BALANCE_RANGE</th>\n",
       "      <th>PURCHASES_RANGE</th>\n",
       "      <th>ONEOFF_PURCHASES_RANGE</th>\n",
       "      <th>INSTALLMENTS_PURCHASES_RANGE</th>\n",
       "      <th>CASH_ADVANCE_RANGE</th>\n",
       "      <th>PURCHASES_FREQUENCY_RANGE</th>\n",
       "      <th>ONEOFF_PURCHASES_FREQUENCY_RANGE</th>\n",
       "      <th>PURCHASES_INSTALLMENTS_FREQUENCY_RANGE</th>\n",
       "      <th>CASH_ADVANCE_FREQUENCY_RANGE</th>\n",
       "      <th>CASH_ADVANCE_TRX_RANGE</th>\n",
       "      <th>PURCHASES_TRX_RANGE</th>\n",
       "      <th>CREDIT_LIMIT_RANGE</th>\n",
       "      <th>PAYMENTS_RANGE</th>\n",
       "      <th>MINIMUM_PAYMENTS_RANGE</th>\n",
       "      <th>PRC_FULL_PAYMENT_RANGE</th>\n",
       "      <th>cluster</th>\n",
       "    </tr>\n",
       "  </thead>\n",
       "  <tbody>\n",
       "    <tr>\n",
       "      <th>0</th>\n",
       "      <td>12</td>\n",
       "      <td>2</td>\n",
       "      <td>3</td>\n",
       "      <td>0</td>\n",
       "      <td>3</td>\n",
       "      <td>0</td>\n",
       "      <td>2</td>\n",
       "      <td>0</td>\n",
       "      <td>1</td>\n",
       "      <td>0</td>\n",
       "      <td>0</td>\n",
       "      <td>3</td>\n",
       "      <td>2</td>\n",
       "      <td>2</td>\n",
       "      <td>2</td>\n",
       "      <td>0</td>\n",
       "      <td>0</td>\n",
       "    </tr>\n",
       "    <tr>\n",
       "      <th>1</th>\n",
       "      <td>12</td>\n",
       "      <td>2</td>\n",
       "      <td>0</td>\n",
       "      <td>0</td>\n",
       "      <td>0</td>\n",
       "      <td>3</td>\n",
       "      <td>0</td>\n",
       "      <td>0</td>\n",
       "      <td>0</td>\n",
       "      <td>3</td>\n",
       "      <td>2</td>\n",
       "      <td>0</td>\n",
       "      <td>7</td>\n",
       "      <td>7</td>\n",
       "      <td>7</td>\n",
       "      <td>7</td>\n",
       "      <td>3</td>\n",
       "    </tr>\n",
       "    <tr>\n",
       "      <th>2</th>\n",
       "      <td>12</td>\n",
       "      <td>2</td>\n",
       "      <td>6</td>\n",
       "      <td>5</td>\n",
       "      <td>0</td>\n",
       "      <td>0</td>\n",
       "      <td>6</td>\n",
       "      <td>4</td>\n",
       "      <td>0</td>\n",
       "      <td>0</td>\n",
       "      <td>0</td>\n",
       "      <td>5</td>\n",
       "      <td>7</td>\n",
       "      <td>3</td>\n",
       "      <td>6</td>\n",
       "      <td>0</td>\n",
       "      <td>2</td>\n",
       "    </tr>\n",
       "    <tr>\n",
       "      <th>3</th>\n",
       "      <td>12</td>\n",
       "      <td>2</td>\n",
       "      <td>7</td>\n",
       "      <td>5</td>\n",
       "      <td>0</td>\n",
       "      <td>1</td>\n",
       "      <td>1</td>\n",
       "      <td>1</td>\n",
       "      <td>0</td>\n",
       "      <td>1</td>\n",
       "      <td>1</td>\n",
       "      <td>2</td>\n",
       "      <td>7</td>\n",
       "      <td>0</td>\n",
       "      <td>7</td>\n",
       "      <td>0</td>\n",
       "      <td>3</td>\n",
       "    </tr>\n",
       "    <tr>\n",
       "      <th>4</th>\n",
       "      <td>12</td>\n",
       "      <td>2</td>\n",
       "      <td>1</td>\n",
       "      <td>1</td>\n",
       "      <td>0</td>\n",
       "      <td>0</td>\n",
       "      <td>1</td>\n",
       "      <td>1</td>\n",
       "      <td>0</td>\n",
       "      <td>0</td>\n",
       "      <td>0</td>\n",
       "      <td>2</td>\n",
       "      <td>2</td>\n",
       "      <td>4</td>\n",
       "      <td>3</td>\n",
       "      <td>0</td>\n",
       "      <td>0</td>\n",
       "    </tr>\n",
       "  </tbody>\n",
       "</table>\n",
       "</div>"
      ],
      "text/plain": [
       "   TENURE  BALANCE_RANGE  PURCHASES_RANGE  ONEOFF_PURCHASES_RANGE  \\\n",
       "0      12              2                3                       0   \n",
       "1      12              2                0                       0   \n",
       "2      12              2                6                       5   \n",
       "3      12              2                7                       5   \n",
       "4      12              2                1                       1   \n",
       "\n",
       "   INSTALLMENTS_PURCHASES_RANGE  CASH_ADVANCE_RANGE  \\\n",
       "0                             3                   0   \n",
       "1                             0                   3   \n",
       "2                             0                   0   \n",
       "3                             0                   1   \n",
       "4                             0                   0   \n",
       "\n",
       "   PURCHASES_FREQUENCY_RANGE  ONEOFF_PURCHASES_FREQUENCY_RANGE  \\\n",
       "0                          2                                 0   \n",
       "1                          0                                 0   \n",
       "2                          6                                 4   \n",
       "3                          1                                 1   \n",
       "4                          1                                 1   \n",
       "\n",
       "   PURCHASES_INSTALLMENTS_FREQUENCY_RANGE  CASH_ADVANCE_FREQUENCY_RANGE  \\\n",
       "0                                       1                             0   \n",
       "1                                       0                             3   \n",
       "2                                       0                             0   \n",
       "3                                       0                             1   \n",
       "4                                       0                             0   \n",
       "\n",
       "   CASH_ADVANCE_TRX_RANGE  PURCHASES_TRX_RANGE  CREDIT_LIMIT_RANGE  \\\n",
       "0                       0                    3                   2   \n",
       "1                       2                    0                   7   \n",
       "2                       0                    5                   7   \n",
       "3                       1                    2                   7   \n",
       "4                       0                    2                   2   \n",
       "\n",
       "   PAYMENTS_RANGE  MINIMUM_PAYMENTS_RANGE  PRC_FULL_PAYMENT_RANGE  cluster  \n",
       "0               2                       2                       0        0  \n",
       "1               7                       7                       7        3  \n",
       "2               3                       6                       0        2  \n",
       "3               0                       7                       0        3  \n",
       "4               4                       3                       0        0  "
      ]
     },
     "execution_count": 31,
     "metadata": {},
     "output_type": "execute_result"
    }
   ],
   "source": [
    "clusters1=pd.concat([data1, pd.DataFrame({'cluster':labels})], axis=1)\n",
    "clusters.head()"
   ]
  },
  {
   "cell_type": "code",
   "execution_count": 18,
   "id": "b6745aea",
   "metadata": {},
   "outputs": [],
   "source": [
    "clusters1.to_csv('C:\\\\Users\\\\Karen\\\\OneDrive\\\\Documentos\\\\Tec Data Analytics Bootcamp\\\\Proyecto\\\\export_dataframe.csv')\n"
   ]
  },
  {
   "cell_type": "code",
   "execution_count": null,
   "id": "3c4f20e1",
   "metadata": {},
   "outputs": [],
   "source": []
  },
  {
   "cell_type": "code",
   "execution_count": 32,
   "id": "bf22a509",
   "metadata": {},
   "outputs": [
    {
     "data": {
      "text/plain": [
       "77643.71051827393"
      ]
     },
     "execution_count": 32,
     "metadata": {},
     "output_type": "execute_result"
    }
   ],
   "source": [
    "##Yo lo agregué de: https://www.reneshbedre.com/blog/kmeans-clustering-python.html\n",
    "## Significa: gives within-cluster sum of squares. This is a total of the within-cluster sum of squares for all clusters.\n",
    "\n",
    "kmean.inertia_\n",
    "##No me cuadra que el resultado haya sido mayor a 100."
   ]
  },
  {
   "cell_type": "code",
   "execution_count": 33,
   "id": "9ebc07ca",
   "metadata": {},
   "outputs": [
    {
     "data": {
      "text/plain": [
       "11"
      ]
     },
     "execution_count": 33,
     "metadata": {},
     "output_type": "execute_result"
    }
   ],
   "source": [
    "##Yo lo agregué de: https://www.reneshbedre.com/blog/kmeans-clustering-python.html\n",
    "##Significa: number of iterations that k-means algorithm runs to get a minimum within-cluster sum of squares\n",
    "kmean.n_iter_"
   ]
  },
  {
   "cell_type": "code",
   "execution_count": 34,
   "id": "2ac7d0c0",
   "metadata": {},
   "outputs": [
    {
     "data": {
      "text/plain": [
       "Counter({0: 2764, 3: 2517, 2: 2302, 1: 1367})"
      ]
     },
     "execution_count": 34,
     "metadata": {},
     "output_type": "execute_result"
    }
   ],
   "source": [
    "#Me dice cuantas observaciones tiene cada cluster\n",
    "from collections import Counter\n",
    "Counter(kmean.labels_)"
   ]
  },
  {
   "cell_type": "code",
   "execution_count": null,
   "id": "e137d937",
   "metadata": {},
   "outputs": [],
   "source": []
  },
  {
   "cell_type": "code",
   "execution_count": 35,
   "id": "5973de2c",
   "metadata": {
    "scrolled": false
   },
   "outputs": [
    {
     "data": {
      "image/png": "[encoded data removed]",
      "text/plain": [
       "<Figure size 864x216 with 4 Axes>"
      ]
     },
     "metadata": {
      "needs_background": "light"
     },
     "output_type": "display_data"
    },
    {
     "data": {
      "image/png": "[encoded data removed]",
      "text/plain": [
       "<Figure size 864x216 with 4 Axes>"
      ]
     },
     "metadata": {
      "needs_background": "light"
     },
     "output_type": "display_data"
    },
    {
     "data": {
      "image/png": "[encoded data removed]",
      "text/plain": [
       "<Figure size 864x216 with 4 Axes>"
      ]
     },
     "metadata": {
      "needs_background": "light"
     },
     "output_type": "display_data"
    },
    {
     "data": {
      "image/png": "[encoded data removed]",
      "text/plain": [
       "<Figure size 864x216 with 4 Axes>"
      ]
     },
     "metadata": {
      "needs_background": "light"
     },
     "output_type": "display_data"
    },
    {
     "data": {
      "image/png": "[encoded data removed]",
      "text/plain": [
       "<Figure size 864x216 with 4 Axes>"
      ]
     },
     "metadata": {
      "needs_background": "light"
     },
     "output_type": "display_data"
    },
    {
     "data": {
      "image/png": "[encoded data removed]",
      "text/plain": [
       "<Figure size 864x216 with 4 Axes>"
      ]
     },
     "metadata": {
      "needs_background": "light"
     },
     "output_type": "display_data"
    },
    {
     "data": {
      "image/png": "[encoded data removed]",
      "text/plain": [
       "<Figure size 864x216 with 4 Axes>"
      ]
     },
     "metadata": {
      "needs_background": "light"
     },
     "output_type": "display_data"
    },
    {
     "data": {
      "image/png": "[encoded data removed]",
      "text/plain": [
       "<Figure size 864x216 with 4 Axes>"
      ]
     },
     "metadata": {
      "needs_background": "light"
     },
     "output_type": "display_data"
    },
    {
     "data": {
      "image/png": "[encoded data removed]",
      "text/plain": [
       "<Figure size 864x216 with 4 Axes>"
      ]
     },
     "metadata": {
      "needs_background": "light"
     },
     "output_type": "display_data"
    },
    {
     "data": {
      "image/png": "[encoded data removed]",
      "text/plain": [
       "<Figure size 864x216 with 4 Axes>"
      ]
     },
     "metadata": {
      "needs_background": "light"
     },
     "output_type": "display_data"
    },
    {
     "data": {
      "image/png": "[encoded data removed]",
      "text/plain": [
       "<Figure size 864x216 with 4 Axes>"
      ]
     },
     "metadata": {
      "needs_background": "light"
     },
     "output_type": "display_data"
    },
    {
     "data": {
      "image/png": "[encoded data removed]",
      "text/plain": [
       "<Figure size 864x216 with 4 Axes>"
      ]
     },
     "metadata": {
      "needs_background": "light"
     },
     "output_type": "display_data"
    },
    {
     "data": {
      "image/png": "[encoded data removed]",
      "text/plain": [
       "<Figure size 864x216 with 4 Axes>"
      ]
     },
     "metadata": {
      "needs_background": "light"
     },
     "output_type": "display_data"
    },
    {
     "data": {
      "image/png": "[encoded data removed]",
      "text/plain": [
       "<Figure size 864x216 with 4 Axes>"
      ]
     },
     "metadata": {
      "needs_background": "light"
     },
     "output_type": "display_data"
    },
    {
     "data": {
      "image/png": "[encoded data removed]",
      "text/plain": [
       "<Figure size 864x216 with 4 Axes>"
      ]
     },
     "metadata": {
      "needs_background": "light"
     },
     "output_type": "display_data"
    },
    {
     "data": {
      "image/png": "[encoded data removed]",
      "text/plain": [
       "<Figure size 864x216 with 4 Axes>"
      ]
     },
     "metadata": {
      "needs_background": "light"
     },
     "output_type": "display_data"
    },
    {
     "data": {
      "image/png": "[encoded data removed]",
      "text/plain": [
       "<Figure size 864x216 with 4 Axes>"
      ]
     },
     "metadata": {
      "needs_background": "light"
     },
     "output_type": "display_data"
    }
   ],
   "source": [
    "for c in clusters:\n",
    "    grid= sns.FacetGrid(clusters, col='cluster')\n",
    "    grid.map(plt.hist, c,color='purple')"
   ]
  },
  {
   "cell_type": "code",
   "execution_count": null,
   "id": "3fa527da",
   "metadata": {},
   "outputs": [],
   "source": []
  },
  {
   "cell_type": "code",
   "execution_count": null,
   "id": "ecda60a2",
   "metadata": {},
   "outputs": [],
   "source": []
  }
 ],
 "metadata": {
  "kernelspec": {
   "display_name": "PythonData",
   "language": "python",
   "name": "pythondata"
  },
  "language_info": {
   "codemirror_mode": {
    "name": "ipython",
    "version": 3
   },
   "file_extension": ".py",
   "mimetype": "text/x-python",
   "name": "python",
   "nbconvert_exporter": "python",
   "pygments_lexer": "ipython3",
   "version": "3.7.11"
  }
 },
 "nbformat": 4,
 "nbformat_minor": 5
}
